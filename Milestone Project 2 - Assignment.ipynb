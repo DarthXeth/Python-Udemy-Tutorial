{
 "cells": [
  {
   "cell_type": "markdown",
   "metadata": {},
   "source": [
    "#Milestone Project 2 - Blackjack Game\n",
    "In this milestone project you will be creating a Complete BlackJack Card Game in Python.\n",
    "\n",
    "Here are the requirements:\n",
    "\n",
    "* You need to create a simple text-based [BlackJack](https://en.wikipedia.org/wiki/Blackjack) game\n",
    "* The game needs to have one player versus an automated dealer.\n",
    "* The player can stand or hit.\n",
    "* The player must be able to pick their betting amount.\n",
    "* You need to keep track of the players total money.\n",
    "* You need to alert the player of wins, losses, or busts, etc...\n",
    "\n",
    "And most importantly:\n",
    "\n",
    "* **You must use OOP and classes in some portion of your game. You can not just use functions in your game. Use classes to help you define the Deck and the Player's hand. There are many right ways to do this, so explore it well!**\n",
    "\n",
    "\n",
    "Feel free to expand this game-try including multiple players. Try adding in Double-Down and card splits! Remember to you are free to use any resources you want and as always:\n",
    "\n",
    "# HAVE FUN!"
   ]
  },
  {
   "cell_type": "code",
   "execution_count": 51,
   "metadata": {
    "collapsed": true
   },
   "outputs": [],
   "source": [
    "'''\n",
    "Application High Level Design\n",
    "I need a Deck, which is made of 52 cards, 13 cards of 4 suits\n",
    "Cards have a value of 2 - 10, except Ace, which can be 1 or 11, whichever is more advantageous\n",
    "Players try to get as close to 21 as possible without going over\n",
    "An A+K combination is Blackjack\n",
    "Players start with a pot of $2000\n",
    "Hands are $20\n",
    "Blackjack pays $30\n",
    "Deck is re-shuffled after every hand\n",
    "No splits allowed\n",
    "I'm not trying to fuck with insurance, double-down, etc\n",
    "'''\n",
    "\n",
    "from random import randint\n",
    "from num2words import num2words"
   ]
  },
  {
   "cell_type": "code",
   "execution_count": 52,
   "metadata": {
    "collapsed": false
   },
   "outputs": [],
   "source": [
    "class Card(object):\n",
    "    '''\n",
    "    The Card has a name, a point value, and a suit\n",
    "    only one card of a face/suit can exist at a time\n",
    "    '''\n",
    "    \n",
    "    def __init__(self):\n",
    "        '''\n",
    "        Creates a new card with random values. Does not\n",
    "        check to see if card is already in existence\n",
    "        '''\n",
    "        \n",
    "        # random suit\n",
    "        r = randint(1, 4)\n",
    "        if r == 1:\n",
    "            self.suit = \"Hearts\"\n",
    "        elif r == 2:\n",
    "            self.suit = \"Diamonds\"\n",
    "        elif r == 3:\n",
    "            self.suit = \"Clubs\"\n",
    "        elif r == 4:\n",
    "            self.suit = \"Spades\"\n",
    "        \n",
    "        # random card\n",
    "        r = randint(1, 13)\n",
    "        self.score = [r]\n",
    "        self.name = num2words(r).title()\n",
    "        \n",
    "        if r == 1:\n",
    "            self.name = \"Ace\"\n",
    "            self.score = [1, 11]\n",
    "        elif r == 11:\n",
    "            self.name = \"Jack\"\n",
    "        elif r == 12:\n",
    "            self.name = \"Queen\"\n",
    "        elif r == 13:\n",
    "            self.name = \"King\"\n",
    "\n",
    "        \n",
    "    def getName(self):\n",
    "        '''\n",
    "        gets the name of the card, e.g; \"Jack\", \"Two\", \"Five\"\n",
    "        '''\n",
    "        s = self.name\n",
    "        return s.title()\n",
    "        \n",
    "    def getFullName(self):\n",
    "        '''\n",
    "        gets the full name of the card; e.g., \"Queen of Clubs\"\n",
    "        '''\n",
    "        s = self.name + \" of \" + self.suit\n",
    "        \n",
    "        return s.title()\n",
    "        \n",
    "    def getScore(self):\n",
    "        '''\n",
    "        gets the value of the card, returned as a set.\n",
    "        (5), (3), (1, 11)\n",
    "        '''\n",
    "        v = self.score\n",
    "        return v\n",
    "        \n",
    "    def getSuit(self):\n",
    "        '''\n",
    "        gets the suit of the card; e.g., \"Hearts\"\n",
    "        '''\n",
    "        s = self.suit\n",
    "        return s.title()"
   ]
  },
  {
   "cell_type": "code",
   "execution_count": 60,
   "metadata": {
    "collapsed": false
   },
   "outputs": [
    {
     "data": {
      "text/plain": [
       "u'Two Of Diamonds'"
      ]
     },
     "execution_count": 60,
     "metadata": {},
     "output_type": "execute_result"
    }
   ],
   "source": [
    "c = Card()\n",
    "c.getFullName()"
   ]
  },
  {
   "cell_type": "code",
   "execution_count": null,
   "metadata": {
    "collapsed": true
   },
   "outputs": [],
   "source": []
  }
 ],
 "metadata": {
  "kernelspec": {
   "display_name": "Python 2",
   "language": "python",
   "name": "python2"
  },
  "language_info": {
   "codemirror_mode": {
    "name": "ipython",
    "version": 2
   },
   "file_extension": ".py",
   "mimetype": "text/x-python",
   "name": "python",
   "nbconvert_exporter": "python",
   "pygments_lexer": "ipython2",
   "version": "2.7.13"
  }
 },
 "nbformat": 4,
 "nbformat_minor": 0
}
